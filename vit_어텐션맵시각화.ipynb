{
 "cells": [
  {
   "cell_type": "code",
   "execution_count": 24,
   "metadata": {},
   "outputs": [],
   "source": [
    "import torch\n",
    "import torch.nn as nn\n",
    "import torch.optim as optim\n",
    "from torch.optim import lr_scheduler\n",
    "import numpy as np\n",
    "import torchvision.datasets as dset\n",
    "import torchvision.transforms as T\n",
    "from torch.utils.data import DataLoader\n",
    "from torch.utils.data import sampler\n",
    "import matplotlib.pyplot as plt\n",
    "import os\n",
    "import copy\n",
    "\n",
    "# tensorboard writer\n",
    "from torch.utils.tensorboard import SummaryWriter\n",
    "\n",
    "device = torch.device('cuda' if torch.cuda.is_available() else 'cpu')\n",
    "dtype = torch.long\n",
    "\n",
    "# tensor 연산을 간편하게 하기 위해 einops moudule import.\n",
    "# reference & tutorial : http://einops.rocks/pytorch-examples.html\n",
    "from einops import rearrange, repeat, reduce\n",
    "from einops.layers.torch import Rearrange\n",
    "\n",
    "# WarmupCosineSchedule 이용\n",
    "from pytorch_transformers.optimization import WarmupCosineSchedule"
   ]
  },
  {
   "cell_type": "code",
   "execution_count": 25,
   "metadata": {},
   "outputs": [],
   "source": [
    "class MultiHeadAttentionLayer(nn.Module):\n",
    "    def __init__(self, d_model, nhead, dropout_ratio):\n",
    "        super().__init__()\n",
    "\n",
    "        self.d_model = d_model # d_model : embed dimension\n",
    "        self.nhead = nhead # nhead : head 수\n",
    "        self.head_dim = d_model // nhead # head_dim : head 마다의 dimension\n",
    "\n",
    "        # 위 figure 에서 Q, K, V 가 head 수 만큼의 Linear 를 거쳐 Scaled Dot-Product Attention에 들어가는데\n",
    "        # 실제 구현에서는 Q, K, V 각각이 하나의 Linear 를 거쳐 나온 것을 쪼개서 Scaled Dot-Product Attention에 들어가게 함.\n",
    "        self.qLinear = nn.Linear(d_model, d_model) # query lineqr\n",
    "        self.kLinear = nn.Linear(d_model, d_model) # key linear\n",
    "        self.vLinear = nn.Linear(d_model, d_model) # value linear\n",
    "\n",
    "        self.oLinear = nn.Linear(d_model, d_model) # output linear\n",
    "\n",
    "        self.dropout = nn.Dropout(dropout_ratio)\n",
    "\n",
    "    def forward(self, query, key, value): # 기존의 Transformer 와 달리 mask 없음.\n",
    "\n",
    "        batch_size = query.shape[0]\n",
    "        query_len = query.shape[1]\n",
    "        value_len = key_len = key.shape[1]\n",
    "\n",
    "        # query: [batch_size, query_len, d_model]\n",
    "        # key: [batch_size, key_len, d_model]\n",
    "        # value: [batch_size, value_len, d_model]\n",
    " \n",
    "        Q = self.qLinear(query)\n",
    "        K = self.kLinear(key)\n",
    "        V = self.vLinear(value)\n",
    "\n",
    "        # Q: [batch_size, query_len, d_model]\n",
    "        # K: [batch_size, key_len, d_model]\n",
    "        # V: [batch_size, value_len, d_model]\n",
    "\n",
    "        # d_model = nhead * head_dim\n",
    "        # head 수로 distribute\n",
    "        Q = rearrange(Q, 'b l (h d) -> b h l d', h=self.nhead)\n",
    "        K = rearrange(K, 'b l (h d) -> b h l d', h=self.nhead)\n",
    "        V = rearrange(V, 'b l (h d) -> b h l d', h=self.nhead)\n",
    "\n",
    "        # Q: [batch_size, nhead, query_len, head_dim]\n",
    "        # K: [batch_size, nhead, key_len, head_dim]\n",
    "        # V: [batch_size, nhead, value_len, head_dim]\n",
    "\n",
    "        #=========Scaled Dot-Product Attention=========\n",
    "\n",
    "        # attention weight 계산\n",
    "        weight = torch.matmul(Q, rearrange(K, 'b h l d -> b h d l')) / np.sqrt(self.head_dim)\n",
    "\n",
    "        # weight: [batch_size, nhead, query_len, key_len]\n",
    "\n",
    "        attention = torch.softmax(weight, dim=-1)\n",
    "\n",
    "        # attention: [batch_size, nhead, query_len, key_len]\n",
    "\n",
    "        # context vector 계산\n",
    "        c = torch.matmul(self.dropout(attention), V)\n",
    "\n",
    "        # c: [batch_size, nhead, query_len, head_dim]\n",
    "\n",
    "        #=========Scaled Dot-Product Attention=========\n",
    "\n",
    "        # reshape & concat\n",
    "        c = rearrange(c, 'b h l d -> b l (h d)')\n",
    "\n",
    "        # c: [batch_size, query_len, d_model]\n",
    "\n",
    "        output = self.oLinear(c)\n",
    "\n",
    "        # output: [batch_size, query_len, d_model]\n",
    "\n",
    "        return output, attention"
   ]
  },
  {
   "cell_type": "code",
   "execution_count": 26,
   "metadata": {},
   "outputs": [],
   "source": [
    "class PositionWiseFeedForwardLayer(nn.Module):\n",
    "    def __init__(self, d_model, ff_dim, dropout_ratio):\n",
    "        super().__init__()\n",
    "        # ff_dim : FFN 에서 hidden layer node 수\n",
    "        self.linear1 = nn.Linear(d_model, ff_dim)\n",
    "        self.linear2 = nn.Linear(ff_dim, d_model)\n",
    "\n",
    "        self.dropout = nn.Dropout(dropout_ratio)\n",
    "\n",
    "    def forward(self, x):\n",
    "\n",
    "        # x: [batch_size, seq_len, d_model]\n",
    "\n",
    "        # The MLP contains two layers with a GELU non-linearity\n",
    "        x = self.dropout(nn.functional.gelu(self.linear1(x)))\n",
    "\n",
    "        # x: [batch_size, seq_len, ff_dim]\n",
    "\n",
    "        x = self.linear2(x)\n",
    "\n",
    "        # x: [batch_size, seq_len, d_model]\n",
    "\n",
    "        return x"
   ]
  },
  {
   "cell_type": "code",
   "execution_count": 27,
   "metadata": {},
   "outputs": [],
   "source": [
    "class EncoderLayer(nn.Module):\n",
    "    def __init__(self, d_model, nhead, ff_dim, dropout_ratio):\n",
    "        super().__init__()\n",
    "\n",
    "        self.layerNorm1 = nn.LayerNorm(d_model)\n",
    "        self.layerNorm2 = nn.LayerNorm(d_model)\n",
    "        self.multiHeadAttentionLayer = MultiHeadAttentionLayer(d_model, nhead, dropout_ratio)\n",
    "        self.positionWiseFeedForward = PositionWiseFeedForwardLayer(d_model, ff_dim, dropout_ratio)\n",
    "        self.dropout = nn.Dropout(dropout_ratio)\n",
    "\n",
    "    def forward(self, src):\n",
    "\n",
    "        # src: [batch_size, src_len, d_model] # encoder layer 에 입력되는 값\n",
    "\n",
    "        # Layernorm (LN) is applied before every block\n",
    "        _src = self.layerNorm1(src)\n",
    "\n",
    "        # self attention 이므로 query, key, value 전부 동일\n",
    "        _src, attention = self.multiHeadAttentionLayer(_src, _src, _src)\n",
    "\n",
    "        # residual connections after every block\n",
    "\n",
    "        # Dropout, when used, is applied after every dense layer except for the the qkv-projections\n",
    "        # and directly after adding positional- to patch embeddings. \n",
    "        src = src + self.dropout(_src)\n",
    "\n",
    "        _src = self.layerNorm2(src)\n",
    "\n",
    "        # src: [batch_size, src_len, d_model]\n",
    "\n",
    "        _src = self.positionWiseFeedForward(_src)\n",
    "\n",
    "        src = src + self.dropout(_src)\n",
    "\n",
    "        # src: [batch_size, src_len, d_model]\n",
    "\n",
    "        return src, attention"
   ]
  },
  {
   "cell_type": "code",
   "execution_count": 28,
   "metadata": {},
   "outputs": [],
   "source": [
    "class Encoder(nn.Module):\n",
    "    def __init__(self, d_model, n_layers, nhead, ff_dim, dropout_ratio):\n",
    "        super().__init__()\n",
    "        # n_layers : encoder layer 반복 수\n",
    "        # Encoder Layer 을 n_layers 만큼 반복.\n",
    "        self.layers = nn.ModuleList([EncoderLayer(d_model, nhead, ff_dim, dropout_ratio) for _ in range(n_layers)])\n",
    "\n",
    "    def forward(self, src):\n",
    "\n",
    "        # src: [batch_size, src_len]\n",
    "\n",
    "        attentions = []\n",
    "\n",
    "        for layer in self.layers:\n",
    "            src, attention = layer(src)\n",
    "            attentions.append(attention)\n",
    "\n",
    "        # src: [batch_size, src_len, d_model]\n",
    "\n",
    "        return src, attentions"
   ]
  },
  {
   "cell_type": "code",
   "execution_count": 29,
   "metadata": {},
   "outputs": [],
   "source": [
    "class ImageEmbedding(nn.Module):\n",
    "  def __init__(self, channel, patch_size, D):\n",
    "    super().__init__()\n",
    "    # image 를 patch 단위로 나눈 뒤 [batch_size, patch 개수, patch_size * patch_size * channel] 로 shape 만들기\n",
    "    self.rearrange = Rearrange('b c (num_w p1) (num_h p2) -> b (num_w num_h) (p1 p2 c) ', p1=patch_size, p2=patch_size)\n",
    "    # 임베딩 작업 [batch_size, patch 개수, patch_size * patch_size * channel] -> [batch_size, patch 개수, embed_dim]\n",
    "    self.linear = nn.Linear(channel*patch_size*patch_size, D)\n",
    "    # learnable cls_token (only for classification)\n",
    "    self.cls_token = nn.Parameter(torch.randn(1, 1, D))\n",
    "\n",
    "  def forward(self, image):\n",
    "\n",
    "    b, c, w, h = image.shape\n",
    "\n",
    "    # image: [batch_size, channel, width, height]\n",
    "\n",
    "    # num_w = w / p1 # num_w : width 가 패치로 나누어진 수\n",
    "    # num_h = h / p2 # num_h : height 가 패치로 나누어진 수\n",
    "    # n = num_w * num_h = (w*h) / (p1*p2)\n",
    "    flatten_patches = self.rearrange(image)\n",
    "\n",
    "    # flatten_patches : [batch_size, patch 개수, patch_size * patch_size * channel]\n",
    "\n",
    "    embedded_patches = self.linear(flatten_patches)\n",
    "\n",
    "    # embedded_patches : [batch_size, patch 개수, embed_dim]\n",
    "    \n",
    "    # Similar to BERT’s [class] token, we prepend a learnable embedding to the sequence of embedded patches\n",
    "    # classification 의 경우 맨 앞에 learnable cls_token 추가.\n",
    "    cls_tokens = repeat(self.cls_token, 'b n d -> (b repeat) n d', repeat=b)\n",
    "    embedded_patches = torch.cat((cls_tokens, embedded_patches), dim=1)\n",
    "\n",
    "    # embedded_patches : [batch_size, 1 + patch 개수, embed_dim]\n",
    "\n",
    "    return embedded_patches"
   ]
  },
  {
   "cell_type": "code",
   "execution_count": 30,
   "metadata": {},
   "outputs": [],
   "source": [
    "class TokPosEmbedding(nn.Module):\n",
    "  def __init__(self, c, p, d_model, dropout_ratio):\n",
    "    super().__init__()\n",
    "    self.tokEmbedding = ImageEmbedding(c, p, d_model)\n",
    "    self.posEmbedding = nn.Embedding(100, d_model) # cos & sin positional encoding 대신, learnable positional embedding 으로 구현. (max patch 수 100)\n",
    "                                                   # max length : 입력 sequence 의 최대 길이.\n",
    "    self.d_model = d_model\n",
    "    self.dropout = nn.Dropout(dropout_ratio)\n",
    "\n",
    "  def forward(self, src):\n",
    "\n",
    "    # src: [batch_size, width, height, channel]\n",
    "\n",
    "    src = self.tokEmbedding(src)\n",
    "\n",
    "    # src: [batch_size, src_len, d_model]\n",
    "\n",
    "    batch_size = src.shape[0]\n",
    "    src_len = src.shape[1]\n",
    "\n",
    "    # 0 ~ src_len 등차 수열값 을 bactch 한개와 동일한 shape으로 생성 (positional embedding)\n",
    "    pos = torch.arange(0, src_len, dtype=dtype) # pos: [src_len]\n",
    "    pos = repeat(pos, 'l -> b l', b=batch_size).to(device) # pos: [batch_size, src_len]\n",
    "\n",
    "    src = self.dropout(src * float(np.sqrt(self.d_model)) + self.posEmbedding(pos))\n",
    "    # Dropout, when used, is applied after every dense layer except for the the qkv-projections and directly after adding positional- to patch embeddings\n",
    "\n",
    "    # src: [batch_size, src_len, d_model]\n",
    "\n",
    "    return src"
   ]
  },
  {
   "cell_type": "code",
   "execution_count": 31,
   "metadata": {},
   "outputs": [],
   "source": [
    "class VisionTransformer(nn.Module):\n",
    "    def __init__(self, c, p, d_model, n_layers, nhead, ff_dim, dropout_ratio, output_dim):\n",
    "        super().__init__()\n",
    "\n",
    "        self.encEmbedding = TokPosEmbedding(c, p, d_model, dropout_ratio)\n",
    "        self.encoder = Encoder(d_model, n_layers, nhead, ff_dim, dropout_ratio)\n",
    "        self.layerNorm = nn.LayerNorm(d_model)\n",
    "        self.linear = nn.Linear(d_model, output_dim) \n",
    "\n",
    "    def forward(self, src):\n",
    "        \n",
    "        # src: [batch_size, src_len]\n",
    "\n",
    "        src = self.encEmbedding(src)\n",
    "\n",
    "        enc_src, attentions = self.encoder(src)\n",
    "\n",
    "        # enc_src: [batch_size, src_len, d_model] # encoder의 출력값.\n",
    "\n",
    "        # classification head\n",
    "\n",
    "        cls_token = enc_src[:,0,:] # cls token\n",
    "\n",
    "        # cls_token: [batch_size, d_model]\n",
    "\n",
    "        cls_token = self.layerNorm(cls_token)\n",
    "\n",
    "        output = self.linear(cls_token)\n",
    "\n",
    "        # output: [batch_size, output_dim]\n",
    "\n",
    "        return output, attentions"
   ]
  },
  {
   "cell_type": "code",
   "execution_count": 32,
   "metadata": {},
   "outputs": [],
   "source": [
    "transform = T.Compose([\n",
    "                T.ToTensor(),\n",
    "                T.Normalize((0.5), (0.5))\n",
    "            ])\n",
    "\n",
    "mnist_train = dset.MNIST('./data', train=True, download=True,\n",
    "                             transform=transform)\n",
    "\n",
    "mnist_val = dset.MNIST('./data', train=True, download=True,\n",
    "                           transform=transform)\n",
    "\n",
    "mnist_test = dset.MNIST('./data', train=False, download=True, \n",
    "                            transform=transform)\n",
    "\n",
    "NUM_TRAIN = 50000\n",
    "dataloaders = {}\n",
    "dataloaders['train'] = DataLoader(mnist_train, batch_size=64, sampler=sampler.SubsetRandomSampler(range(NUM_TRAIN)))\n",
    "dataloaders['val'] = DataLoader(mnist_val, batch_size=64, sampler=sampler.SubsetRandomSampler(range(NUM_TRAIN, 60000)))\n",
    "dataloaders['test'] = DataLoader(mnist_test, batch_size=64)"
   ]
  },
  {
   "cell_type": "code",
   "execution_count": 33,
   "metadata": {},
   "outputs": [],
   "source": [
    "def trainer(model_name, model, criterion, optimizer, scheduler, num_epochs):\n",
    "\n",
    "    model.to(device)\n",
    "    writer = SummaryWriter(f'runs/{model_name}')\n",
    "    best_model_wts = copy.deepcopy(model.state_dict())\n",
    "    global_step, best_acc = 0, 0.0\n",
    "    running_loss, running_acc = {}, {}\n",
    "\n",
    "    for epoch in range(num_epochs):\n",
    "        print('Epoch {}/{}'.format(epoch, num_epochs - 1))\n",
    "        print('-' * 10)\n",
    "\n",
    "        # Each epoch has a training and validation phase\n",
    "        for phase in ['train', 'val']:\n",
    "            if phase == 'train':\n",
    "                model.train()  # Set model to training mode\n",
    "            else:\n",
    "                model.eval()   # Set model to evaluate mode\n",
    "\n",
    "            running_loss[phase], running_acc[phase] = 0.0, 0\n",
    "\n",
    "            # Iterate over data.\n",
    "            for inputs, labels in dataloaders[phase]:\n",
    "                inputs = inputs.to(device)\n",
    "                labels = labels.to(device)\n",
    "\n",
    "                # zero the parameter gradients\n",
    "                optimizer.zero_grad()\n",
    "\n",
    "                # forward\n",
    "                # track history if only in train\n",
    "                with torch.set_grad_enabled(phase == 'train'):\n",
    "                    outputs, _ = model(inputs)\n",
    "                    _, preds = torch.max(outputs, 1)\n",
    "                    loss = criterion(outputs, labels)\n",
    "\n",
    "                    # backward + optimize only if in training phase\n",
    "                    if phase == 'train':\n",
    "                        loss.backward()\n",
    "                        optimizer.step()\n",
    "\n",
    "                # statistics\n",
    "                running_loss[phase] += loss.item() * inputs.shape[0]\n",
    "                running_acc[phase] += torch.sum(preds == labels.data)\n",
    "\n",
    "            if phase == 'train':\n",
    "                scheduler.step()\n",
    "            \n",
    "            running_loss[phase] = running_loss[phase] / (len(dataloaders[phase]) * dataloaders[phase].batch_size)\n",
    "            running_acc[phase] = running_acc[phase].double() / (len(dataloaders[phase]) * dataloaders[phase].batch_size)\n",
    "\n",
    "            print('{} Loss: {:.4f} Acc: {:.4f}'.format(phase, running_loss[phase], running_acc[phase]))\n",
    "\n",
    "            # deep copy the model\n",
    "            if phase == 'val' and running_acc[phase] > best_acc:\n",
    "                best_acc = running_acc[phase]\n",
    "                best_model_wts = copy.deepcopy(model.state_dict())\n",
    "\n",
    "        writer.add_scalars(f'{model_name}/loss', {'train' : running_loss['train'], 'val' : running_loss['val']}, global_step)\n",
    "        writer.add_scalars(f'{model_name}/acc', {'train' : running_acc['train'], 'val' : running_acc['val']}, global_step)\n",
    "        writer.add_scalar(f'{model_name}/lr', scheduler.get_last_lr()[0], global_step)\n",
    "        global_step += 1\n",
    "\n",
    "        print()\n",
    "\n",
    "    print('Best val Acc: {:4f}'.format(best_acc))\n",
    "\n",
    "    # load best model weights\n",
    "    model.load_state_dict(best_model_wts)\n",
    "\n",
    "    torch.save(model.state_dict(), f'{model_name}.pt')\n",
    "    print('model saved')\n",
    "\n",
    "    writer.close()\n",
    "\n",
    "    return model"
   ]
  },
  {
   "cell_type": "code",
   "execution_count": 34,
   "metadata": {},
   "outputs": [],
   "source": [
    "def checker(loader, model):\n",
    "\n",
    "    model.eval()\n",
    "    with torch.no_grad():\n",
    "      correct_num = 0\n",
    "      for iters, (batch_x, batch_t) in enumerate(loader):\n",
    "\n",
    "        batch_x = batch_x.to(device)\n",
    "        batch_t = batch_t.to(device)\n",
    "\n",
    "        predict, _ = model(batch_x)\n",
    "        _, predict = predict.max(1)\n",
    "\n",
    "        correct_num += (predict == batch_t).sum()\n",
    "        \n",
    "    return correct_num"
   ]
  },
  {
   "cell_type": "code",
   "execution_count": 35,
   "metadata": {},
   "outputs": [],
   "source": [
    "channel = 1\n",
    "patch_size = 4\n",
    "\n",
    "d_model = 64\n",
    "n_layers = 6\n",
    "nhead = 4\n",
    "ff_dim = 1024\n",
    "dropout_ratio = 0.2\n",
    "output_dim = 10\n",
    "\n",
    "num_epochs = 10"
   ]
  },
  {
   "cell_type": "code",
   "execution_count": 36,
   "metadata": {},
   "outputs": [
    {
     "name": "stdout",
     "output_type": "stream",
     "text": [
      "Epoch 0/9\n",
      "----------\n",
      "train Loss: 2.4471 Acc: 0.0980\n",
      "val Loss: 2.4377 Acc: 0.0978\n",
      "\n",
      "Epoch 1/9\n",
      "----------\n",
      "train Loss: 1.1524 Acc: 0.5827\n",
      "val Loss: 0.3380 Acc: 0.8906\n",
      "\n",
      "Epoch 2/9\n",
      "----------\n",
      "train Loss: 0.3682 Acc: 0.8824\n",
      "val Loss: 0.1576 Acc: 0.9494\n",
      "\n",
      "Epoch 3/9\n",
      "----------\n",
      "train Loss: 0.2227 Acc: 0.9276\n",
      "val Loss: 0.1227 Acc: 0.9597\n",
      "\n",
      "Epoch 4/9\n",
      "----------\n",
      "train Loss: 0.1650 Acc: 0.9466\n",
      "val Loss: 0.0982 Acc: 0.9687\n",
      "\n",
      "Epoch 5/9\n",
      "----------\n",
      "train Loss: 0.1333 Acc: 0.9562\n",
      "val Loss: 0.0947 Acc: 0.9689\n",
      "\n",
      "Epoch 6/9\n",
      "----------\n",
      "train Loss: 0.1120 Acc: 0.9631\n",
      "val Loss: 0.0716 Acc: 0.9751\n",
      "\n",
      "Epoch 7/9\n",
      "----------\n",
      "train Loss: 0.0899 Acc: 0.9704\n",
      "val Loss: 0.0652 Acc: 0.9770\n",
      "\n",
      "Epoch 8/9\n",
      "----------\n",
      "train Loss: 0.0751 Acc: 0.9752\n",
      "val Loss: 0.0612 Acc: 0.9788\n",
      "\n",
      "Epoch 9/9\n",
      "----------\n",
      "train Loss: 0.0654 Acc: 0.9786\n",
      "val Loss: 0.0587 Acc: 0.9800\n",
      "\n",
      "Best val Acc: 0.979996\n",
      "model saved\n"
     ]
    }
   ],
   "source": [
    "model = VisionTransformer(channel, patch_size, d_model, n_layers, nhead, ff_dim, dropout_ratio, output_dim)\n",
    "criterion = nn.CrossEntropyLoss()\n",
    "optimizer = optim.Adam(model.parameters())\n",
    "scheduler = WarmupCosineSchedule(optimizer, num_epochs // 5, num_epochs)\n",
    "model = trainer('ViT_MNIST', model, criterion, optimizer, scheduler, num_epochs)"
   ]
  },
  {
   "cell_type": "code",
   "execution_count": 37,
   "metadata": {},
   "outputs": [
    {
     "name": "stdout",
     "output_type": "stream",
     "text": [
      "train accuracy 98.908%\n",
      "val accuracy 98.470%\n",
      "test accuracy 98.220%\n"
     ]
    }
   ],
   "source": [
    "correct_num = checker(dataloaders['train'], model)\n",
    "acc = float(correct_num) / NUM_TRAIN\n",
    "print('train accuracy %.3f%%' % (acc * 100))\n",
    "\n",
    "correct_num = checker(dataloaders['val'], model)\n",
    "acc = float(correct_num) / (60000 - NUM_TRAIN)\n",
    "print('val accuracy %.3f%%' % (acc * 100))\n",
    "\n",
    "correct_num = checker(dataloaders['test'], model)\n",
    "acc = float(correct_num) / len(mnist_test)\n",
    "print('test accuracy %.3f%%' % (acc * 100))"
   ]
  },
  {
   "cell_type": "code",
   "execution_count": 38,
   "metadata": {},
   "outputs": [
    {
     "data": {
      "image/png": "[encoded data removed]",
      "text/plain": [
       "<Figure size 864x864 with 3 Axes>"
      ]
     },
     "metadata": {
      "needs_background": "light"
     },
     "output_type": "display_data"
    },
    {
     "data": {
      "image/png": "[encoded data removed]",
      "text/plain": [
       "<Figure size 864x864 with 3 Axes>"
      ]
     },
     "metadata": {
      "needs_background": "light"
     },
     "output_type": "display_data"
    },
    {
     "data": {
      "image/png": "[encoded data removed]",
      "text/plain": [
       "<Figure size 864x864 with 3 Axes>"
      ]
     },
     "metadata": {
      "needs_background": "light"
     },
     "output_type": "display_data"
    },
    {
     "data": {
      "image/png": "[encoded data removed]",
      "text/plain": [
       "<Figure size 864x864 with 3 Axes>"
      ]
     },
     "metadata": {
      "needs_background": "light"
     },
     "output_type": "display_data"
    },
    {
     "data": {
      "image/png": "[encoded data removed]",
      "text/plain": [
       "<Figure size 864x864 with 3 Axes>"
      ]
     },
     "metadata": {
      "needs_background": "light"
     },
     "output_type": "display_data"
    },
    {
     "data": {
      "image/png": "[encoded data removed]",
      "text/plain": [
       "<Figure size 864x864 with 3 Axes>"
      ]
     },
     "metadata": {
      "needs_background": "light"
     },
     "output_type": "display_data"
    },
    {
     "data": {
      "image/png": "[encoded data removed]",
      "text/plain": [
       "<Figure size 864x864 with 3 Axes>"
      ]
     },
     "metadata": {
      "needs_background": "light"
     },
     "output_type": "display_data"
    },
    {
     "data": {
      "image/png": "[encoded data removed]",
      "text/plain": [
       "<Figure size 864x864 with 3 Axes>"
      ]
     },
     "metadata": {
      "needs_background": "light"
     },
     "output_type": "display_data"
    },
    {
     "data": {
      "image/png": "[encoded data removed]",
      "text/plain": [
       "<Figure size 864x864 with 3 Axes>"
      ]
     },
     "metadata": {
      "needs_background": "light"
     },
     "output_type": "display_data"
    },
    {
     "data": {
      "image/png": "[encoded data removed]",
      "text/plain": [
       "<Figure size 864x864 with 3 Axes>"
      ]
     },
     "metadata": {
      "needs_background": "light"
     },
     "output_type": "display_data"
    }
   ],
   "source": [
    "\n",
    "import cv2\n",
    "\n",
    "idxs = np.random.choice(range(len(mnist_test.data)), 10, False)\n",
    "for idx in idxs:\n",
    "  im = mnist_test.data[idx]\n",
    "  im = 255 - im # image 값 반전\n",
    "\n",
    "  # encoder 에서 나온 attention 을 head 에 대해 평균.\n",
    "  _, attentions = model(im.unsqueeze(0).unsqueeze(1).to(device, torch.float))\n",
    "  att_mat = torch.stack(attentions).squeeze(1)\n",
    "  att_mat = att_mat.cpu().detach()\n",
    "\n",
    "  att_mat = reduce(att_mat, 'b h len1 len2 -> b len1 len2', 'mean')\n",
    "\n",
    "  residual_att = torch.eye(att_mat.size(1))\n",
    "  aug_att_mat = att_mat + residual_att\n",
    "  aug_att_mat = aug_att_mat / aug_att_mat.sum(dim=-1).unsqueeze(-1)\n",
    "\n",
    "  # Recursively multiply the weight matrices\n",
    "  joint_attentions = torch.zeros(aug_att_mat.size())\n",
    "  joint_attentions[0] = aug_att_mat[0]\n",
    "\n",
    "  for n in range(1, aug_att_mat.size(0)):\n",
    "      joint_attentions[n] = torch.matmul(aug_att_mat[n], joint_attentions[n-1])\n",
    "      \n",
    "  # Attention from the output token to the input space.\n",
    "  v = joint_attentions[-1]\n",
    "  grid_size = int(np.sqrt(aug_att_mat.size(-1)))\n",
    "  mask = v[0, 1:].reshape(grid_size, grid_size).detach().numpy()\n",
    "  mask = cv2.resize(mask / mask.max(), (im.shape[1], im.shape[0]))[..., np.newaxis]\n",
    "  result = (mask.squeeze() * im.numpy()).astype(\"uint8\")\n",
    "\n",
    "  fig, (ax1, ax2, ax3) = plt.subplots(ncols=3, figsize=(12, 12))\n",
    "\n",
    "  ax1.set_title('Original')\n",
    "  ax2.set_title('Attention Mask')\n",
    "  ax3.set_title('Attention Map')\n",
    "  _ = ax1.imshow(im)\n",
    "  _ = ax2.imshow(mask.squeeze())\n",
    "  _ = ax3.imshow(result)"
   ]
  }
 ],
 "metadata": {
  "kernelspec": {
   "display_name": "Python 3.7.5 ('env': venv)",
   "language": "python",
   "name": "python3"
  },
  "language_info": {
   "codemirror_mode": {
    "name": "ipython",
    "version": 3
   },
   "file_extension": ".py",
   "mimetype": "text/x-python",
   "name": "python",
   "nbconvert_exporter": "python",
   "pygments_lexer": "ipython3",
   "version": "3.7.5"
  },
  "orig_nbformat": 4,
  "vscode": {
   "interpreter": {
    "hash": "5320f61119de878fb31c813ca30206b3db486be99fef9b78f5991d1f2558cf1d"
   }
  }
 },
 "nbformat": 4,
 "nbformat_minor": 2
}
