{
 "cells": [
  {
   "cell_type": "code",
   "execution_count": 1,
   "metadata": {},
   "outputs": [
    {
     "name": "stdout",
     "output_type": "stream",
     "text": [
      "torch.Size([8, 5])\n",
      "Linear 레이어 계산을 위한 전치 행렬 프린트 (실제 연산에 적용될 웨이트) \n",
      " tensor([[0., 0., 0., 0., 0., 0., 0., 0.],\n",
      "        [1., 1., 1., 1., 1., 1., 1., 1.],\n",
      "        [2., 2., 2., 2., 2., 2., 2., 2.],\n",
      "        [3., 3., 3., 3., 3., 3., 3., 3.],\n",
      "        [4., 4., 4., 4., 4., 4., 4., 4.]], grad_fn=<TransposeBackward0>)\n",
      "torch.Size([5, 5]) \n",
      " tensor([[ 0.,  1.,  2.,  3.,  4.],\n",
      "        [ 5.,  6.,  7.,  8.,  9.],\n",
      "        [10., 11., 12., 13., 14.],\n",
      "        [15., 16., 17., 18., 19.],\n",
      "        [20., 21., 22., 23., 24.]])\n",
      "torch.Size([5, 8]) \n",
      " tensor([[ 30.,  30.,  30.,  30.,  30.,  30.,  30.,  30.],\n",
      "        [ 80.,  80.,  80.,  80.,  80.,  80.,  80.,  80.],\n",
      "        [130., 130., 130., 130., 130., 130., 130., 130.],\n",
      "        [180., 180., 180., 180., 180., 180., 180., 180.],\n",
      "        [230., 230., 230., 230., 230., 230., 230., 230.]],\n",
      "       grad_fn=<MmBackward0>)\n"
     ]
    },
    {
     "name": "stderr",
     "output_type": "stream",
     "text": [
      "/data/mrjaehong/handwriting_gen/pytorch_vit/env/lib/python3.7/site-packages/ipykernel_launcher.py:21: UserWarning: torch.range is deprecated and will be removed in a future release because its behavior is inconsistent with Python's range builtin. Instead, use torch.arange, which produces values in [start, end).\n",
      "/data/mrjaehong/handwriting_gen/pytorch_vit/env/lib/python3.7/site-packages/ipykernel_launcher.py:22: UserWarning: torch.range is deprecated and will be removed in a future release because its behavior is inconsistent with Python's range builtin. Instead, use torch.arange, which produces values in [start, end).\n",
      "/data/mrjaehong/handwriting_gen/pytorch_vit/env/lib/python3.7/site-packages/ipykernel_launcher.py:23: UserWarning: torch.range is deprecated and will be removed in a future release because its behavior is inconsistent with Python's range builtin. Instead, use torch.arange, which produces values in [start, end).\n",
      "/data/mrjaehong/handwriting_gen/pytorch_vit/env/lib/python3.7/site-packages/ipykernel_launcher.py:24: UserWarning: torch.range is deprecated and will be removed in a future release because its behavior is inconsistent with Python's range builtin. Instead, use torch.arange, which produces values in [start, end).\n",
      "/data/mrjaehong/handwriting_gen/pytorch_vit/env/lib/python3.7/site-packages/ipykernel_launcher.py:25: UserWarning: torch.range is deprecated and will be removed in a future release because its behavior is inconsistent with Python's range builtin. Instead, use torch.arange, which produces values in [start, end).\n"
     ]
    }
   ],
   "source": [
    "import torch\n",
    "## 1. Linear 함수 연산 과정\n",
    "# https://www.youtube.com/watch?v=QpyXyenmtTA\n",
    "\n",
    "Linear = torch.nn.Linear(5,8,bias=False)\n",
    "\n",
    "print(Linear.weight.shape)\n",
    "# print(\"레이어 가중치 초기화 전\",Linear.weight)\n",
    "\n",
    "torch.nn.init.constant_(Linear.weight[:,0],0)\n",
    "torch.nn.init.constant_(Linear.weight[:,1],1)\n",
    "torch.nn.init.constant_(Linear.weight[:,2],2)\n",
    "torch.nn.init.constant_(Linear.weight[:,3],3)\n",
    "torch.nn.init.constant_(Linear.weight[:,4],4)\n",
    "\n",
    "\n",
    "# print(\"레이어 가중치 초기화 후 (1)\",Linear.weight)\n",
    "print(\"Linear 레이어 계산을 위한 전치 행렬 프린트 (실제 연산에 적용될 웨이트)\",\"\\n\",torch.transpose(Linear.weight,1,0))\n",
    "\n",
    "\n",
    "row_0 = torch.range(0,4)\n",
    "row_1 = torch.range(5,9)\n",
    "row_2 = torch.range(10,14)\n",
    "row_3 = torch.range(15,19)\n",
    "row_4 = torch.range(20,24)\n",
    "\n",
    "# print(row_0,row_1,row_2,row_3,row_4)\n",
    "\n",
    "input = torch.vstack([row_0,row_1,row_2,row_3,row_4])\n",
    "print(input.shape,\"\\n\",input)\n",
    "\n",
    "\n",
    "# print(row_0) \n",
    "\n",
    "print(Linear(input).shape,\"\\n\",Linear(input))\n",
    "\n",
    "\n",
    "\n",
    "## 행렬곱의 다른 표현\n",
    "# print(input @ torch.transpose(Linear.weight,1,0))"
   ]
  }
 ],
 "metadata": {
  "interpreter": {
   "hash": "5320f61119de878fb31c813ca30206b3db486be99fef9b78f5991d1f2558cf1d"
  },
  "kernelspec": {
   "display_name": "Python 3.7.5 ('env': venv)",
   "language": "python",
   "name": "python3"
  },
  "language_info": {
   "codemirror_mode": {
    "name": "ipython",
    "version": 3
   },
   "file_extension": ".py",
   "mimetype": "text/x-python",
   "name": "python",
   "nbconvert_exporter": "python",
   "pygments_lexer": "ipython3",
   "version": "3.7.5"
  },
  "orig_nbformat": 4
 },
 "nbformat": 4,
 "nbformat_minor": 2
}
